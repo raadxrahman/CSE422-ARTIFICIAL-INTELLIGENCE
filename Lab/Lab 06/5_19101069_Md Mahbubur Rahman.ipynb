{
  "nbformat": 4,
  "nbformat_minor": 0,
  "metadata": {
    "colab": {
      "name": "6.ipynb",
      "provenance": [],
      "collapsed_sections": []
    },
    "kernelspec": {
      "name": "python3",
      "display_name": "Python 3"
    },
    "language_info": {
      "name": "python"
    }
  },
  "cells": [
    {
      "cell_type": "code",
      "execution_count": null,
      "metadata": {
        "id": "FWC65QoezY0t"
      },
      "outputs": [],
      "source": [
        "import numpy as np\n",
        "import pandas as pd\n",
        "\n",
        "from sklearn.impute import SimpleImputer\n",
        "from sklearn.preprocessing import MinMaxScaler\n",
        "\n",
        "from sklearn.model_selection import train_test_split\n",
        "from sklearn.svm import SVC\n",
        "from sklearn.neural_network import MLPClassifier\n",
        "from sklearn.ensemble import RandomForestClassifier\n",
        "from sklearn.decomposition import PCA\n",
        "\n",
        "import matplotlib.pyplot as plt"
      ]
    },
    {
      "cell_type": "code",
      "source": [
        "volunteer = pd.read_csv('/content/leaf_dataset.csv')\n",
        "volunteer.head(6)"
      ],
      "metadata": {
        "colab": {
          "base_uri": "https://localhost:8080/",
          "height": 336
        },
        "id": "aZ8c30GOznsK",
        "outputId": "dc4e2975-cf19-4aec-d529-7ed12d0474f4"
      },
      "execution_count": null,
      "outputs": [
        {
          "output_type": "execute_result",
          "data": {
            "text/plain": [
              "   Class(species)  specimen number  Eccentricity  Aspect Ratio  Elongation  \\\n",
              "0               1                1       0.72694        1.4742     0.32396   \n",
              "1               1                2       0.74173        1.5257     0.36116   \n",
              "2               1                3       0.76722        1.5725     0.38998   \n",
              "3               1                4       0.73797        1.4597     0.35376   \n",
              "4               1                5       0.82301        1.7707     0.44462   \n",
              "5               1                6       0.72997        1.4892     0.34284   \n",
              "\n",
              "   Solidity  Stochastic Convexity  Isoperimetric Factor  \\\n",
              "0   0.98535               1.00000               0.83592   \n",
              "1   0.98152               0.99825               0.79867   \n",
              "2   0.97755               1.00000               0.80812   \n",
              "3   0.97566               1.00000               0.81697   \n",
              "4   0.97698               1.00000               0.75493   \n",
              "5   0.98755               1.00000               0.84482   \n",
              "\n",
              "   Maximal Indentation Depth  Lobedness  Average Intensity  Average Contrast  \\\n",
              "0                   0.004657   0.003947           0.047790          0.127950   \n",
              "1                   0.005242   0.005002           0.024160          0.090476   \n",
              "2                   0.007457   0.010121           0.011897          0.057445   \n",
              "3                   0.006877   0.008607           0.015950          0.065491   \n",
              "4                   0.007428   0.010042           0.007938          0.045339   \n",
              "5                   0.004945   0.004451           0.010487          0.058528   \n",
              "\n",
              "   Smoothness  Third moment  Uniformity  Entropy  \n",
              "0    0.016108      0.005232    0.000275  1.17560  \n",
              "1    0.008119      0.002708    0.000075  0.69659  \n",
              "2    0.003289      0.000921    0.000038  0.44348  \n",
              "3    0.004271      0.001154    0.000066  0.58785  \n",
              "4    0.002051      0.000560    0.000023  0.34214  \n",
              "5    0.003414      0.001125    0.000025  0.34068  "
            ],
            "text/html": [
              "\n",
              "  <div id=\"df-48a2ed71-0b70-4916-b6e5-e3194e946f2b\">\n",
              "    <div class=\"colab-df-container\">\n",
              "      <div>\n",
              "<style scoped>\n",
              "    .dataframe tbody tr th:only-of-type {\n",
              "        vertical-align: middle;\n",
              "    }\n",
              "\n",
              "    .dataframe tbody tr th {\n",
              "        vertical-align: top;\n",
              "    }\n",
              "\n",
              "    .dataframe thead th {\n",
              "        text-align: right;\n",
              "    }\n",
              "</style>\n",
              "<table border=\"1\" class=\"dataframe\">\n",
              "  <thead>\n",
              "    <tr style=\"text-align: right;\">\n",
              "      <th></th>\n",
              "      <th>Class(species)</th>\n",
              "      <th>specimen number</th>\n",
              "      <th>Eccentricity</th>\n",
              "      <th>Aspect Ratio</th>\n",
              "      <th>Elongation</th>\n",
              "      <th>Solidity</th>\n",
              "      <th>Stochastic Convexity</th>\n",
              "      <th>Isoperimetric Factor</th>\n",
              "      <th>Maximal Indentation Depth</th>\n",
              "      <th>Lobedness</th>\n",
              "      <th>Average Intensity</th>\n",
              "      <th>Average Contrast</th>\n",
              "      <th>Smoothness</th>\n",
              "      <th>Third moment</th>\n",
              "      <th>Uniformity</th>\n",
              "      <th>Entropy</th>\n",
              "    </tr>\n",
              "  </thead>\n",
              "  <tbody>\n",
              "    <tr>\n",
              "      <th>0</th>\n",
              "      <td>1</td>\n",
              "      <td>1</td>\n",
              "      <td>0.72694</td>\n",
              "      <td>1.4742</td>\n",
              "      <td>0.32396</td>\n",
              "      <td>0.98535</td>\n",
              "      <td>1.00000</td>\n",
              "      <td>0.83592</td>\n",
              "      <td>0.004657</td>\n",
              "      <td>0.003947</td>\n",
              "      <td>0.047790</td>\n",
              "      <td>0.127950</td>\n",
              "      <td>0.016108</td>\n",
              "      <td>0.005232</td>\n",
              "      <td>0.000275</td>\n",
              "      <td>1.17560</td>\n",
              "    </tr>\n",
              "    <tr>\n",
              "      <th>1</th>\n",
              "      <td>1</td>\n",
              "      <td>2</td>\n",
              "      <td>0.74173</td>\n",
              "      <td>1.5257</td>\n",
              "      <td>0.36116</td>\n",
              "      <td>0.98152</td>\n",
              "      <td>0.99825</td>\n",
              "      <td>0.79867</td>\n",
              "      <td>0.005242</td>\n",
              "      <td>0.005002</td>\n",
              "      <td>0.024160</td>\n",
              "      <td>0.090476</td>\n",
              "      <td>0.008119</td>\n",
              "      <td>0.002708</td>\n",
              "      <td>0.000075</td>\n",
              "      <td>0.69659</td>\n",
              "    </tr>\n",
              "    <tr>\n",
              "      <th>2</th>\n",
              "      <td>1</td>\n",
              "      <td>3</td>\n",
              "      <td>0.76722</td>\n",
              "      <td>1.5725</td>\n",
              "      <td>0.38998</td>\n",
              "      <td>0.97755</td>\n",
              "      <td>1.00000</td>\n",
              "      <td>0.80812</td>\n",
              "      <td>0.007457</td>\n",
              "      <td>0.010121</td>\n",
              "      <td>0.011897</td>\n",
              "      <td>0.057445</td>\n",
              "      <td>0.003289</td>\n",
              "      <td>0.000921</td>\n",
              "      <td>0.000038</td>\n",
              "      <td>0.44348</td>\n",
              "    </tr>\n",
              "    <tr>\n",
              "      <th>3</th>\n",
              "      <td>1</td>\n",
              "      <td>4</td>\n",
              "      <td>0.73797</td>\n",
              "      <td>1.4597</td>\n",
              "      <td>0.35376</td>\n",
              "      <td>0.97566</td>\n",
              "      <td>1.00000</td>\n",
              "      <td>0.81697</td>\n",
              "      <td>0.006877</td>\n",
              "      <td>0.008607</td>\n",
              "      <td>0.015950</td>\n",
              "      <td>0.065491</td>\n",
              "      <td>0.004271</td>\n",
              "      <td>0.001154</td>\n",
              "      <td>0.000066</td>\n",
              "      <td>0.58785</td>\n",
              "    </tr>\n",
              "    <tr>\n",
              "      <th>4</th>\n",
              "      <td>1</td>\n",
              "      <td>5</td>\n",
              "      <td>0.82301</td>\n",
              "      <td>1.7707</td>\n",
              "      <td>0.44462</td>\n",
              "      <td>0.97698</td>\n",
              "      <td>1.00000</td>\n",
              "      <td>0.75493</td>\n",
              "      <td>0.007428</td>\n",
              "      <td>0.010042</td>\n",
              "      <td>0.007938</td>\n",
              "      <td>0.045339</td>\n",
              "      <td>0.002051</td>\n",
              "      <td>0.000560</td>\n",
              "      <td>0.000023</td>\n",
              "      <td>0.34214</td>\n",
              "    </tr>\n",
              "    <tr>\n",
              "      <th>5</th>\n",
              "      <td>1</td>\n",
              "      <td>6</td>\n",
              "      <td>0.72997</td>\n",
              "      <td>1.4892</td>\n",
              "      <td>0.34284</td>\n",
              "      <td>0.98755</td>\n",
              "      <td>1.00000</td>\n",
              "      <td>0.84482</td>\n",
              "      <td>0.004945</td>\n",
              "      <td>0.004451</td>\n",
              "      <td>0.010487</td>\n",
              "      <td>0.058528</td>\n",
              "      <td>0.003414</td>\n",
              "      <td>0.001125</td>\n",
              "      <td>0.000025</td>\n",
              "      <td>0.34068</td>\n",
              "    </tr>\n",
              "  </tbody>\n",
              "</table>\n",
              "</div>\n",
              "      <button class=\"colab-df-convert\" onclick=\"convertToInteractive('df-48a2ed71-0b70-4916-b6e5-e3194e946f2b')\"\n",
              "              title=\"Convert this dataframe to an interactive table.\"\n",
              "              style=\"display:none;\">\n",
              "        \n",
              "  <svg xmlns=\"http://www.w3.org/2000/svg\" height=\"24px\"viewBox=\"0 0 24 24\"\n",
              "       width=\"24px\">\n",
              "    <path d=\"M0 0h24v24H0V0z\" fill=\"none\"/>\n",
              "    <path d=\"M18.56 5.44l.94 2.06.94-2.06 2.06-.94-2.06-.94-.94-2.06-.94 2.06-2.06.94zm-11 1L8.5 8.5l.94-2.06 2.06-.94-2.06-.94L8.5 2.5l-.94 2.06-2.06.94zm10 10l.94 2.06.94-2.06 2.06-.94-2.06-.94-.94-2.06-.94 2.06-2.06.94z\"/><path d=\"M17.41 7.96l-1.37-1.37c-.4-.4-.92-.59-1.43-.59-.52 0-1.04.2-1.43.59L10.3 9.45l-7.72 7.72c-.78.78-.78 2.05 0 2.83L4 21.41c.39.39.9.59 1.41.59.51 0 1.02-.2 1.41-.59l7.78-7.78 2.81-2.81c.8-.78.8-2.07 0-2.86zM5.41 20L4 18.59l7.72-7.72 1.47 1.35L5.41 20z\"/>\n",
              "  </svg>\n",
              "      </button>\n",
              "      \n",
              "  <style>\n",
              "    .colab-df-container {\n",
              "      display:flex;\n",
              "      flex-wrap:wrap;\n",
              "      gap: 12px;\n",
              "    }\n",
              "\n",
              "    .colab-df-convert {\n",
              "      background-color: #E8F0FE;\n",
              "      border: none;\n",
              "      border-radius: 50%;\n",
              "      cursor: pointer;\n",
              "      display: none;\n",
              "      fill: #1967D2;\n",
              "      height: 32px;\n",
              "      padding: 0 0 0 0;\n",
              "      width: 32px;\n",
              "    }\n",
              "\n",
              "    .colab-df-convert:hover {\n",
              "      background-color: #E2EBFA;\n",
              "      box-shadow: 0px 1px 2px rgba(60, 64, 67, 0.3), 0px 1px 3px 1px rgba(60, 64, 67, 0.15);\n",
              "      fill: #174EA6;\n",
              "    }\n",
              "\n",
              "    [theme=dark] .colab-df-convert {\n",
              "      background-color: #3B4455;\n",
              "      fill: #D2E3FC;\n",
              "    }\n",
              "\n",
              "    [theme=dark] .colab-df-convert:hover {\n",
              "      background-color: #434B5C;\n",
              "      box-shadow: 0px 1px 3px 1px rgba(0, 0, 0, 0.15);\n",
              "      filter: drop-shadow(0px 1px 2px rgba(0, 0, 0, 0.3));\n",
              "      fill: #FFFFFF;\n",
              "    }\n",
              "  </style>\n",
              "\n",
              "      <script>\n",
              "        const buttonEl =\n",
              "          document.querySelector('#df-48a2ed71-0b70-4916-b6e5-e3194e946f2b button.colab-df-convert');\n",
              "        buttonEl.style.display =\n",
              "          google.colab.kernel.accessAllowed ? 'block' : 'none';\n",
              "\n",
              "        async function convertToInteractive(key) {\n",
              "          const element = document.querySelector('#df-48a2ed71-0b70-4916-b6e5-e3194e946f2b');\n",
              "          const dataTable =\n",
              "            await google.colab.kernel.invokeFunction('convertToInteractive',\n",
              "                                                     [key], {});\n",
              "          if (!dataTable) return;\n",
              "\n",
              "          const docLinkHtml = 'Like what you see? Visit the ' +\n",
              "            '<a target=\"_blank\" href=https://colab.research.google.com/notebooks/data_table.ipynb>data table notebook</a>'\n",
              "            + ' to learn more about interactive tables.';\n",
              "          element.innerHTML = '';\n",
              "          dataTable['output_type'] = 'display_data';\n",
              "          await google.colab.output.renderOutput(dataTable, element);\n",
              "          const docLink = document.createElement('div');\n",
              "          docLink.innerHTML = docLinkHtml;\n",
              "          element.appendChild(docLink);\n",
              "        }\n",
              "      </script>\n",
              "    </div>\n",
              "  </div>\n",
              "  "
            ]
          },
          "metadata": {},
          "execution_count": 29
        }
      ]
    },
    {
      "cell_type": "code",
      "source": [
        "volunteer.isnull().sum()\n",
        "\n",
        "volunteer[['Elongation', 'Maximal Indentation Depth', 'Lobedness', 'Average Contrast', 'Entropy']]"
      ],
      "metadata": {
        "colab": {
          "base_uri": "https://localhost:8080/",
          "height": 423
        },
        "id": "sUuuVr0N3ZDm",
        "outputId": "bad82c50-fd95-4a96-94b6-c7da6b885d9e"
      },
      "execution_count": null,
      "outputs": [
        {
          "output_type": "execute_result",
          "data": {
            "text/plain": [
              "     Elongation  Maximal Indentation Depth  Lobedness  Average Contrast  \\\n",
              "0       0.32396                   0.004657   0.003947          0.127950   \n",
              "1       0.36116                   0.005242   0.005002          0.090476   \n",
              "2       0.38998                   0.007457   0.010121          0.057445   \n",
              "3       0.35376                   0.006877   0.008607          0.065491   \n",
              "4       0.44462                   0.007428   0.010042          0.045339   \n",
              "..          ...                        ...        ...               ...   \n",
              "335     0.81725                   0.091860   1.535800          0.208610   \n",
              "336     0.75319                   0.078996   1.135800          0.218300   \n",
              "337     0.78147                   0.089763   1.466400          0.207030   \n",
              "338     0.71532                   0.113370   2.339400          0.135850   \n",
              "339     0.85409                   0.132270   3.184000          0.187820   \n",
              "\n",
              "     Entropy  \n",
              "0    1.17560  \n",
              "1    0.69659  \n",
              "2    0.44348  \n",
              "3    0.58785  \n",
              "4    0.34214  \n",
              "..       ...  \n",
              "335  2.02810  \n",
              "336  2.40590  \n",
              "337  1.69350  \n",
              "338  1.15260  \n",
              "339  1.56230  \n",
              "\n",
              "[340 rows x 5 columns]"
            ],
            "text/html": [
              "\n",
              "  <div id=\"df-547cdd41-dadd-4220-b312-0ee341a99f6b\">\n",
              "    <div class=\"colab-df-container\">\n",
              "      <div>\n",
              "<style scoped>\n",
              "    .dataframe tbody tr th:only-of-type {\n",
              "        vertical-align: middle;\n",
              "    }\n",
              "\n",
              "    .dataframe tbody tr th {\n",
              "        vertical-align: top;\n",
              "    }\n",
              "\n",
              "    .dataframe thead th {\n",
              "        text-align: right;\n",
              "    }\n",
              "</style>\n",
              "<table border=\"1\" class=\"dataframe\">\n",
              "  <thead>\n",
              "    <tr style=\"text-align: right;\">\n",
              "      <th></th>\n",
              "      <th>Elongation</th>\n",
              "      <th>Maximal Indentation Depth</th>\n",
              "      <th>Lobedness</th>\n",
              "      <th>Average Contrast</th>\n",
              "      <th>Entropy</th>\n",
              "    </tr>\n",
              "  </thead>\n",
              "  <tbody>\n",
              "    <tr>\n",
              "      <th>0</th>\n",
              "      <td>0.32396</td>\n",
              "      <td>0.004657</td>\n",
              "      <td>0.003947</td>\n",
              "      <td>0.127950</td>\n",
              "      <td>1.17560</td>\n",
              "    </tr>\n",
              "    <tr>\n",
              "      <th>1</th>\n",
              "      <td>0.36116</td>\n",
              "      <td>0.005242</td>\n",
              "      <td>0.005002</td>\n",
              "      <td>0.090476</td>\n",
              "      <td>0.69659</td>\n",
              "    </tr>\n",
              "    <tr>\n",
              "      <th>2</th>\n",
              "      <td>0.38998</td>\n",
              "      <td>0.007457</td>\n",
              "      <td>0.010121</td>\n",
              "      <td>0.057445</td>\n",
              "      <td>0.44348</td>\n",
              "    </tr>\n",
              "    <tr>\n",
              "      <th>3</th>\n",
              "      <td>0.35376</td>\n",
              "      <td>0.006877</td>\n",
              "      <td>0.008607</td>\n",
              "      <td>0.065491</td>\n",
              "      <td>0.58785</td>\n",
              "    </tr>\n",
              "    <tr>\n",
              "      <th>4</th>\n",
              "      <td>0.44462</td>\n",
              "      <td>0.007428</td>\n",
              "      <td>0.010042</td>\n",
              "      <td>0.045339</td>\n",
              "      <td>0.34214</td>\n",
              "    </tr>\n",
              "    <tr>\n",
              "      <th>...</th>\n",
              "      <td>...</td>\n",
              "      <td>...</td>\n",
              "      <td>...</td>\n",
              "      <td>...</td>\n",
              "      <td>...</td>\n",
              "    </tr>\n",
              "    <tr>\n",
              "      <th>335</th>\n",
              "      <td>0.81725</td>\n",
              "      <td>0.091860</td>\n",
              "      <td>1.535800</td>\n",
              "      <td>0.208610</td>\n",
              "      <td>2.02810</td>\n",
              "    </tr>\n",
              "    <tr>\n",
              "      <th>336</th>\n",
              "      <td>0.75319</td>\n",
              "      <td>0.078996</td>\n",
              "      <td>1.135800</td>\n",
              "      <td>0.218300</td>\n",
              "      <td>2.40590</td>\n",
              "    </tr>\n",
              "    <tr>\n",
              "      <th>337</th>\n",
              "      <td>0.78147</td>\n",
              "      <td>0.089763</td>\n",
              "      <td>1.466400</td>\n",
              "      <td>0.207030</td>\n",
              "      <td>1.69350</td>\n",
              "    </tr>\n",
              "    <tr>\n",
              "      <th>338</th>\n",
              "      <td>0.71532</td>\n",
              "      <td>0.113370</td>\n",
              "      <td>2.339400</td>\n",
              "      <td>0.135850</td>\n",
              "      <td>1.15260</td>\n",
              "    </tr>\n",
              "    <tr>\n",
              "      <th>339</th>\n",
              "      <td>0.85409</td>\n",
              "      <td>0.132270</td>\n",
              "      <td>3.184000</td>\n",
              "      <td>0.187820</td>\n",
              "      <td>1.56230</td>\n",
              "    </tr>\n",
              "  </tbody>\n",
              "</table>\n",
              "<p>340 rows × 5 columns</p>\n",
              "</div>\n",
              "      <button class=\"colab-df-convert\" onclick=\"convertToInteractive('df-547cdd41-dadd-4220-b312-0ee341a99f6b')\"\n",
              "              title=\"Convert this dataframe to an interactive table.\"\n",
              "              style=\"display:none;\">\n",
              "        \n",
              "  <svg xmlns=\"http://www.w3.org/2000/svg\" height=\"24px\"viewBox=\"0 0 24 24\"\n",
              "       width=\"24px\">\n",
              "    <path d=\"M0 0h24v24H0V0z\" fill=\"none\"/>\n",
              "    <path d=\"M18.56 5.44l.94 2.06.94-2.06 2.06-.94-2.06-.94-.94-2.06-.94 2.06-2.06.94zm-11 1L8.5 8.5l.94-2.06 2.06-.94-2.06-.94L8.5 2.5l-.94 2.06-2.06.94zm10 10l.94 2.06.94-2.06 2.06-.94-2.06-.94-.94-2.06-.94 2.06-2.06.94z\"/><path d=\"M17.41 7.96l-1.37-1.37c-.4-.4-.92-.59-1.43-.59-.52 0-1.04.2-1.43.59L10.3 9.45l-7.72 7.72c-.78.78-.78 2.05 0 2.83L4 21.41c.39.39.9.59 1.41.59.51 0 1.02-.2 1.41-.59l7.78-7.78 2.81-2.81c.8-.78.8-2.07 0-2.86zM5.41 20L4 18.59l7.72-7.72 1.47 1.35L5.41 20z\"/>\n",
              "  </svg>\n",
              "      </button>\n",
              "      \n",
              "  <style>\n",
              "    .colab-df-container {\n",
              "      display:flex;\n",
              "      flex-wrap:wrap;\n",
              "      gap: 12px;\n",
              "    }\n",
              "\n",
              "    .colab-df-convert {\n",
              "      background-color: #E8F0FE;\n",
              "      border: none;\n",
              "      border-radius: 50%;\n",
              "      cursor: pointer;\n",
              "      display: none;\n",
              "      fill: #1967D2;\n",
              "      height: 32px;\n",
              "      padding: 0 0 0 0;\n",
              "      width: 32px;\n",
              "    }\n",
              "\n",
              "    .colab-df-convert:hover {\n",
              "      background-color: #E2EBFA;\n",
              "      box-shadow: 0px 1px 2px rgba(60, 64, 67, 0.3), 0px 1px 3px 1px rgba(60, 64, 67, 0.15);\n",
              "      fill: #174EA6;\n",
              "    }\n",
              "\n",
              "    [theme=dark] .colab-df-convert {\n",
              "      background-color: #3B4455;\n",
              "      fill: #D2E3FC;\n",
              "    }\n",
              "\n",
              "    [theme=dark] .colab-df-convert:hover {\n",
              "      background-color: #434B5C;\n",
              "      box-shadow: 0px 1px 3px 1px rgba(0, 0, 0, 0.15);\n",
              "      filter: drop-shadow(0px 1px 2px rgba(0, 0, 0, 0.3));\n",
              "      fill: #FFFFFF;\n",
              "    }\n",
              "  </style>\n",
              "\n",
              "      <script>\n",
              "        const buttonEl =\n",
              "          document.querySelector('#df-547cdd41-dadd-4220-b312-0ee341a99f6b button.colab-df-convert');\n",
              "        buttonEl.style.display =\n",
              "          google.colab.kernel.accessAllowed ? 'block' : 'none';\n",
              "\n",
              "        async function convertToInteractive(key) {\n",
              "          const element = document.querySelector('#df-547cdd41-dadd-4220-b312-0ee341a99f6b');\n",
              "          const dataTable =\n",
              "            await google.colab.kernel.invokeFunction('convertToInteractive',\n",
              "                                                     [key], {});\n",
              "          if (!dataTable) return;\n",
              "\n",
              "          const docLinkHtml = 'Like what you see? Visit the ' +\n",
              "            '<a target=\"_blank\" href=https://colab.research.google.com/notebooks/data_table.ipynb>data table notebook</a>'\n",
              "            + ' to learn more about interactive tables.';\n",
              "          element.innerHTML = '';\n",
              "          dataTable['output_type'] = 'display_data';\n",
              "          await google.colab.output.renderOutput(dataTable, element);\n",
              "          const docLink = document.createElement('div');\n",
              "          docLink.innerHTML = docLinkHtml;\n",
              "          element.appendChild(docLink);\n",
              "        }\n",
              "      </script>\n",
              "    </div>\n",
              "  </div>\n",
              "  "
            ]
          },
          "metadata": {},
          "execution_count": 30
        }
      ]
    },
    {
      "cell_type": "code",
      "source": [
        "impute = SimpleImputer(missing_values = np.nan, strategy = 'mean')\n",
        "\n",
        "impute.fit(volunteer[['Elongation']])\n",
        "volunteer['Elongation'] = impute.transform(volunteer[['Elongation']])\n",
        "\n",
        "\n",
        "impute.fit(volunteer[['Maximal Indentation Depth']])\n",
        "volunteer['Maximal Indentation Depth'] = impute.transform(volunteer[['Maximal Indentation Depth']])\n",
        "\n",
        "\n",
        "impute.fit(volunteer[['Lobedness']])\n",
        "volunteer['Lobedness'] = impute.transform(volunteer[['Lobedness']])\n",
        "\n",
        "\n",
        "impute.fit(volunteer[['Average Contrast']])\n",
        "volunteer['Average Contrast'] = impute.transform(volunteer[['Average Contrast']])\n",
        "\n",
        "volunteer.isnull().sum()\n",
        "\n",
        "volunteer['Class(species)'].unique()\n",
        "\n",
        "label = volunteer['Class(species)']\n",
        "feature = volunteer.drop('Class(species)', axis=1)"
      ],
      "metadata": {
        "id": "mJgv7BJz3rMH"
      },
      "execution_count": null,
      "outputs": []
    },
    {
      "cell_type": "code",
      "source": [
        "x_train, x_test, y_train, y_test = train_test_split(feature, label, test_size = 0.2, random_state = 1)\n",
        "\n",
        "scalar = MinMaxScaler()\n",
        "scalar.fit(x_train)\n",
        "x_train_scaled = scalar.transform(x_train)\n",
        "\n",
        "scalar.fit(x_test)\n",
        "x_test_scaled = scalar.transform(x_test)"
      ],
      "metadata": {
        "id": "NhlcJ-4j32wh"
      },
      "execution_count": null,
      "outputs": []
    },
    {
      "cell_type": "code",
      "source": [
        "#SVC\n",
        "\n",
        "svc = SVC(kernel = \"linear\")\n",
        "svc.fit(x_train_scaled, y_train)\n",
        "SVC_acc = svc.score(x_test_scaled, y_test)*100\n",
        "SVC_acc"
      ],
      "metadata": {
        "colab": {
          "base_uri": "https://localhost:8080/"
        },
        "id": "pJslj9SJ4uAK",
        "outputId": "12d37b21-7566-4def-84a6-e7f73fde4911"
      },
      "execution_count": null,
      "outputs": [
        {
          "output_type": "execute_result",
          "data": {
            "text/plain": [
              "36.76470588235294"
            ]
          },
          "metadata": {},
          "execution_count": 33
        }
      ]
    },
    {
      "cell_type": "code",
      "source": [
        "#NN\n",
        "\n",
        "nn = MLPClassifier(activation = \"relu\", hidden_layer_sizes = (7), max_iter = 10000)\n",
        "nn.fit(x_train_scaled, y_train)\n",
        "NN_acc = nn.score(x_test_scaled, y_test)*100\n",
        "NN_acc"
      ],
      "metadata": {
        "colab": {
          "base_uri": "https://localhost:8080/"
        },
        "id": "gS30YmgK6KRr",
        "outputId": "909de8c4-0fea-4126-cf96-f7ad70994fdb"
      },
      "execution_count": null,
      "outputs": [
        {
          "output_type": "execute_result",
          "data": {
            "text/plain": [
              "44.11764705882353"
            ]
          },
          "metadata": {},
          "execution_count": 34
        }
      ]
    },
    {
      "cell_type": "code",
      "source": [
        "#RF\n",
        "\n",
        "rfc = RandomForestClassifier(n_estimators=50)\n",
        "rfc.fit(x_train_scaled, y_train)\n",
        "RF_acc = rfc.score(x_test_scaled, y_test)*100\n",
        "RF_acc"
      ],
      "metadata": {
        "colab": {
          "base_uri": "https://localhost:8080/"
        },
        "id": "AOooOE-36OU8",
        "outputId": "39ae2798-b53e-40d3-ef36-6085ea55f325"
      },
      "execution_count": null,
      "outputs": [
        {
          "output_type": "execute_result",
          "data": {
            "text/plain": [
              "60.29411764705882"
            ]
          },
          "metadata": {},
          "execution_count": 35
        }
      ]
    },
    {
      "cell_type": "code",
      "source": [
        "#PCA\n",
        "\n",
        "pca = PCA(n_components = 7)\n",
        "\n",
        "pca.fit(x_train_scaled)\n",
        "x_train_scaled_pca = pca.transform(x_train_scaled)\n",
        "x_test_scaled_pca = pca.transform(x_test_scaled) "
      ],
      "metadata": {
        "id": "sm4Nu6tt6PV_"
      },
      "execution_count": null,
      "outputs": []
    },
    {
      "cell_type": "code",
      "source": [
        "from sklearn.svm import SVC\n",
        "svc = SVC(kernel = \"linear\")\n",
        "svc.fit(x_train_scaled_pca, y_train)\n",
        "SVC_acc_PCA = svc.score(x_test_scaled_pca, y_test)*100\n",
        "SVC_acc_PCA"
      ],
      "metadata": {
        "colab": {
          "base_uri": "https://localhost:8080/"
        },
        "id": "W99fa7ab6TRM",
        "outputId": "2dda6dab-2c1d-45c0-db32-f1a66e2b1433"
      },
      "execution_count": null,
      "outputs": [
        {
          "output_type": "execute_result",
          "data": {
            "text/plain": [
              "32.35294117647059"
            ]
          },
          "metadata": {},
          "execution_count": 37
        }
      ]
    },
    {
      "cell_type": "code",
      "source": [
        "from sklearn.neural_network import MLPClassifier\n",
        "nn = MLPClassifier(activation = \"relu\", hidden_layer_sizes = (7), max_iter = 10000)\n",
        "nn.fit(x_train_scaled_pca, y_train)\n",
        "NN_acc_PCA = nn.score(x_test_scaled_pca, y_test)*100\n",
        "NN_acc_PCA"
      ],
      "metadata": {
        "colab": {
          "base_uri": "https://localhost:8080/"
        },
        "id": "FmBQKdgx6XGc",
        "outputId": "12afffd8-eb7e-41ea-b536-4789ad41d089"
      },
      "execution_count": null,
      "outputs": [
        {
          "output_type": "execute_result",
          "data": {
            "text/plain": [
              "50.0"
            ]
          },
          "metadata": {},
          "execution_count": 38
        }
      ]
    },
    {
      "cell_type": "code",
      "source": [
        "from sklearn.ensemble import RandomForestClassifier\n",
        "rfc = RandomForestClassifier(n_estimators = 50)\n",
        "rfc.fit(x_train_scaled_pca, y_train)\n",
        "\n",
        "RFC_acc_PCA = rfc.score(x_test_scaled_pca, y_test)*100\n",
        "RFC_acc_PCA"
      ],
      "metadata": {
        "colab": {
          "base_uri": "https://localhost:8080/"
        },
        "id": "0nmec8Tg6Z0b",
        "outputId": "9004e5f1-9e16-4610-bb12-b7fa3977d9f2"
      },
      "execution_count": null,
      "outputs": [
        {
          "output_type": "execute_result",
          "data": {
            "text/plain": [
              "45.588235294117645"
            ]
          },
          "metadata": {},
          "execution_count": 39
        }
      ]
    },
    {
      "cell_type": "code",
      "source": [
        "# before PCA VS after PCA\n",
        "plt.figure(figsize = (20, 20))\n",
        "xAxis = ['SVC', 'PCA SVC', 'Neural Network', 'PCA Neural Network', 'Random Forest', 'PCA Random Forest']\n",
        "yAxis = [SVC_acc, SVC_acc_PCA, NN_acc, NN_acc_PCA, RF_acc, RFC_acc_PCA]\n",
        "plt.bar(xAxis, yAxis, color=\"r\")\n",
        "plt.show()"
      ],
      "metadata": {
        "colab": {
          "base_uri": "https://localhost:8080/",
          "height": 1000
        },
        "id": "C36OhTJd6yYq",
        "outputId": "4f081eba-3466-4a08-b281-35a9c60053bc"
      },
      "execution_count": null,
      "outputs": [
        {
          "output_type": "display_data",
          "data": {
            "text/plain": [
              "<Figure size 1440x1440 with 1 Axes>"
            ],
            "image/png": "[encoded data removed]"
          },
          "metadata": {
            "needs_background": "light"
          }
        }
      ]
    }
  ]
}